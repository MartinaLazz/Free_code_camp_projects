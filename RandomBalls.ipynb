{
 "cells": [
  {
   "cell_type": "code",
   "execution_count": 77,
   "metadata": {},
   "outputs": [],
   "source": [
    "import random\n",
    "import copy\n",
    "\n",
    "class Hat:\n",
    "    def __init__(self, red=0, orange=0, black=0, blue=0, pink=0, striped=0, yellow=0, green=0):\n",
    "        balls = {'red': red, 'orange': orange, 'black': black, 'blue': blue, 'pink': pink, 'striped': striped, 'yellow': yellow, 'green': green}\n",
    "        contents = []\n",
    "        for key, value in balls.items():\n",
    "            if value != 0:\n",
    "                while value > 0:\n",
    "                    contents.append(key)\n",
    "                    value -= 1\n",
    "        self.contents = contents\n",
    "                            \n",
    "    def draw(self, number):\n",
    "        drawballs = []\n",
    "        if number >= len(self.contents):\n",
    "            return self.contents\n",
    "        else:\n",
    "            while number > 0:\n",
    "                randball = self.contents[random.randint(0, len(self.contents)-1)]\n",
    "                drawballs.append(randball)\n",
    "                self.contents.remove(randball)\n",
    "                number -= 1\n",
    "        return drawballs "
   ]
  },
  {
   "cell_type": "code",
   "execution_count": 97,
   "metadata": {},
   "outputs": [
    {
     "name": "stdout",
     "output_type": "stream",
     "text": [
      "['red', 'red', 'blue', 'blue', 'blue', 'green', 'green', 'green', 'green', 'green', 'green']\n",
      "['green', 'red', 'blue', 'green']\n",
      "['red', 'blue', 'blue', 'green', 'green', 'green', 'green']\n"
     ]
    }
   ],
   "source": [
    "hat = Hat(blue=3,red=2,green=6)\n",
    "print(hat.contents)\n",
    "balls = hat.draw(4)\n",
    "print(balls)\n",
    "print(hat.contents)"
   ]
  },
  {
   "cell_type": "code",
   "execution_count": 172,
   "metadata": {},
   "outputs": [],
   "source": [
    "def experiment(hat, expected_balls, num_balls_drawn, num_experiments):\n",
    "    count = 0.0\n",
    "    exp = num_experiments\n",
    "              \n",
    "    while num_experiments > 0:\n",
    "        num_experiments -= 1\n",
    "        hat_copy = copy.deepcopy(hat)\n",
    "        balls_got = hat_copy.draw(num_balls_drawn)\n",
    "        balls_got_dict = {}\n",
    "        for element in balls_got:\n",
    "            if element in balls_got_dict:\n",
    "                balls_got_dict[element] += 1\n",
    "            else:\n",
    "                balls_got_dict[element] = 1\n",
    "                \n",
    "        if balls_got_dict.get('red', 0) >= expected_balls.get('red', 0):\n",
    "            if balls_got_dict.get('orange', 0) >= expected_balls.get('orange', 0):\n",
    "                if balls_got_dict.get('black', 0) >= expected_balls.get('black', 0):\n",
    "                    if balls_got_dict.get('blue', 0) >= expected_balls.get('blue', 0):\n",
    "                        if balls_got_dict.get('pink', 0) >= expected_balls.get('pink', 0):\n",
    "                            if balls_got_dict.get('striped', 0) >= expected_balls.get('striped', 0):\n",
    "                                if balls_got_dict.get('yellow', 0) >= expected_balls.get('yellow', 0):\n",
    "                                    if balls_got_dict.get('green', 0) >= expected_balls.get('green', 0):\n",
    "                                        count += 1.0\n",
    "    return count/exp"
   ]
  },
  {
   "cell_type": "code",
   "execution_count": null,
   "metadata": {},
   "outputs": [],
   "source": []
  },
  {
   "cell_type": "code",
   "execution_count": null,
   "metadata": {},
   "outputs": [],
   "source": []
  }
 ],
 "metadata": {
  "kernelspec": {
   "display_name": "Python 3",
   "language": "python",
   "name": "python3"
  },
  "language_info": {
   "codemirror_mode": {
    "name": "ipython",
    "version": 3
   },
   "file_extension": ".py",
   "mimetype": "text/x-python",
   "name": "python",
   "nbconvert_exporter": "python",
   "pygments_lexer": "ipython3",
   "version": "3.7.7"
  }
 },
 "nbformat": 4,
 "nbformat_minor": 4
}
