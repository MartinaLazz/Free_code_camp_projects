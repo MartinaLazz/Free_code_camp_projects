{
 "cells": [
  {
   "cell_type": "code",
   "execution_count": 27,
   "metadata": {},
   "outputs": [],
   "source": [
    "class Rectangle:\n",
    "  \n",
    "  def __init__(self, width, height):\n",
    "    self.width = width\n",
    "    self.height = height\n",
    "    \n",
    "  def __str__(self):\n",
    "    return 'Rectangle(width={}, height={})'.format(self.width, self.height)\n",
    "\n",
    "  def set_width(self, width):\n",
    "    self.width = width\n",
    "\n",
    "  def set_height(self, height):\n",
    "    self.height = height\n",
    "      \n",
    "  def get_area(self):\n",
    "    return (self.width * self.height)\n",
    "  \n",
    "  def get_perimeter(self):\n",
    "    return (2 * self.width + 2 * self.height)\n",
    "\n",
    "  def get_diagonal(self):\n",
    "    return ((self.width ** 2 + self.height ** 2) ** .5)\n",
    "\n",
    "  def get_picture(self):\n",
    "    if self.width > 50 or self.height > 50:\n",
    "      return 'Too big for picture.'\n",
    "    else:\n",
    "      return ((('*' * self.width) + '\\n') * self.height)\n",
    "\n",
    "  def get_amount_inside(self, shp):\n",
    "    h = int(self.height/shp.height)\n",
    "    w = int(self.width/shp.width)\n",
    "    return (w*h)\n",
    "    \n",
    "class Square(Rectangle):\n",
    "  \n",
    "  def __init__(self, side):\n",
    "    self.width = side\n",
    "    self.height = side\n",
    "  \n",
    "  def __str__(self):\n",
    "    return 'Square(side={})'.format(self.width)\n",
    "\n",
    "  def set_side(self, side):\n",
    "    self.width = side\n",
    "    self.height = side"
   ]
  },
  {
   "cell_type": "code",
   "execution_count": 28,
   "metadata": {},
   "outputs": [
    {
     "name": "stdout",
     "output_type": "stream",
     "text": [
      "Rectangle(width=53, height=3)\n"
     ]
    }
   ],
   "source": [
    "rect = Rectangle(53, 3)\n",
    "print(rect)"
   ]
  },
  {
   "cell_type": "code",
   "execution_count": 29,
   "metadata": {},
   "outputs": [
    {
     "name": "stdout",
     "output_type": "stream",
     "text": [
      "**\n",
      "**\n",
      "\n"
     ]
    }
   ],
   "source": [
    "sq = Square(5)\n",
    "sq.set_side(2)\n",
    "print(sq.get_picture())"
   ]
  },
  {
   "cell_type": "code",
   "execution_count": null,
   "metadata": {},
   "outputs": [],
   "source": []
  }
 ],
 "metadata": {
  "kernelspec": {
   "display_name": "Python 3",
   "language": "python",
   "name": "python3"
  },
  "language_info": {
   "codemirror_mode": {
    "name": "ipython",
    "version": 3
   },
   "file_extension": ".py",
   "mimetype": "text/x-python",
   "name": "python",
   "nbconvert_exporter": "python",
   "pygments_lexer": "ipython3",
   "version": "3.7.7"
  }
 },
 "nbformat": 4,
 "nbformat_minor": 4
}
