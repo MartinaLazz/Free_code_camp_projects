{
 "cells": [
  {
   "cell_type": "markdown",
   "metadata": {},
   "source": [
    "## Piedra, Papel o Tijera"
   ]
  },
  {
   "cell_type": "code",
   "execution_count": 9,
   "metadata": {},
   "outputs": [],
   "source": [
    "from random import choice\n",
    "\n",
    "def jugar():\n",
    "    usuario = input('Piedra, papel o tijera? ').lower()\n",
    "    comp = choice(['piedra', 'papel', 'tijera'])\n",
    "    \n",
    "    if usuario == comp:\n",
    "        print('Empate!')\n",
    "    elif usuario_gana(usuario, comp):\n",
    "        print('Ganaste!')\n",
    "    \n",
    "    print('Perdiste!')\n",
    "    \n",
    "    \n",
    "def usuario_gana(usuario, oponente):\n",
    "    # devuelve true si gana el usiario\n",
    "    if (usuario == 'piedra' and oponente == 'tijera') or (usuario == 'papel' and oponente == 'piedra') \\\n",
    "or (usuario == 'tijera' and oponente == 'papel'):\n",
    "        return True"
   ]
  },
  {
   "cell_type": "code",
   "execution_count": 10,
   "metadata": {},
   "outputs": [
    {
     "name": "stdout",
     "output_type": "stream",
     "text": [
      "Piedra, papel o tijera? tijera\n",
      "Perdiste!\n"
     ]
    }
   ],
   "source": [
    "jugar()"
   ]
  },
  {
   "cell_type": "code",
   "execution_count": null,
   "metadata": {},
   "outputs": [],
   "source": []
  }
 ],
 "metadata": {
  "kernelspec": {
   "display_name": "Python 3",
   "language": "python",
   "name": "python3"
  },
  "language_info": {
   "codemirror_mode": {
    "name": "ipython",
    "version": 3
   },
   "file_extension": ".py",
   "mimetype": "text/x-python",
   "name": "python",
   "nbconvert_exporter": "python",
   "pygments_lexer": "ipython3",
   "version": "3.8.6"
  }
 },
 "nbformat": 4,
 "nbformat_minor": 4
}
