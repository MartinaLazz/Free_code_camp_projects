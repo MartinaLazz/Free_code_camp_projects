{
 "cells": [
  {
   "cell_type": "code",
   "execution_count": null,
   "metadata": {},
   "outputs": [],
   "source": [
    "\"\"\"Create a function named calculate() in mean_var_std.py that uses Numpy to output the mean, variance, standard deviation, max, min, and sum of the rows, columns, and elements in a 3 x 3 matrix.\n",
    "\n",
    "The input of the function should be a list containing 9 digits. The function should convert the list into a 3 x 3 Numpy array, and then return a dictionary containing the mean, variance, standard deviation, max, min, and sum along both axes and for the flattened matrix.\n",
    "\n",
    "The returned dictionary should follow this format:\n",
    "\n",
    "{\n",
    "  'mean': [axis1, axis2, flattened],\n",
    "  'variance': [axis1, axis2, flattened],\n",
    "  'standard deviation': [axis1, axis2, flattened],\n",
    "  'max': [axis1, axis2, flattened],\n",
    "  'min': [axis1, axis2, flattened],\n",
    "  'sum': [axis1, axis2, flattened]\n",
    "}\n",
    "If a list containing less than 9 elements is passed into the function, it should raise a ValueError exception with the message: \"List must contain nine numbers.\" The values in the returned dictionary should be lists and not Numpy arrays.\"\"\""
   ]
  },
  {
   "cell_type": "code",
   "execution_count": 23,
   "metadata": {},
   "outputs": [
    {
     "data": {
      "text/plain": [
       "{'mean': [[3.6666666666666665, 5.0, 3.0],\n",
       "  [3.3333333333333335, 4.0, 4.333333333333333],\n",
       "  3.888888888888889],\n",
       " 'variance': [[9.555555555555557, 0.6666666666666666, 8.666666666666666],\n",
       "  [3.555555555555556, 10.666666666666666, 6.222222222222221],\n",
       "  6.987654320987654],\n",
       " 'standard deviation': [[3.091206165165235,\n",
       "   0.816496580927726,\n",
       "   2.943920288775949],\n",
       "  [1.8856180831641267, 3.265986323710904, 2.494438257849294],\n",
       "  2.6434171674156266],\n",
       " 'max': [[8, 6, 7], [6, 8, 7], 8],\n",
       " 'min': [[1, 4, 0], [2, 0, 1], 0],\n",
       " 'sum': [[11, 15, 9], [10, 12, 13], 35]}"
      ]
     },
     "execution_count": 23,
     "metadata": {},
     "output_type": "execute_result"
    }
   ],
   "source": [
    "import numpy as np\n",
    "\n",
    "def calculate(lst):\n",
    "    if len(lst) == 9:\n",
    "        a = np.array(lst).reshape(3, 3)\n",
    "        results = {}\n",
    "        results['mean'] = [np.mean(a, axis = 0).tolist(), np.mean(a, axis = 1).tolist(), np.mean(a)]\n",
    "        results['variance'] = [np.var(a, axis = 0).tolist(), np.var(a, axis = 1).tolist(), np.var(a)]\n",
    "        results['standard deviation'] = [np.std(a, axis = 0).tolist(), np.std(a, axis = 1).tolist(), np.std(a)]\n",
    "        results['max'] = [np.max(a, axis = 0).tolist(), np.max(a, axis = 1).tolist(), np.max(a)]\n",
    "        results['min'] = [np.min(a, axis = 0).tolist(), np.min(a, axis = 1).tolist(), np.min(a)]\n",
    "        results['sum'] = [np.sum(a, axis = 0).tolist(), np.sum(a, axis = 1).tolist(), np.sum(a)]\n",
    "\n",
    "        return results\n",
    "    \n",
    "    else:\n",
    "        raise ValueError(\"List must contain nine numbers.\")\n",
    "    \n",
    "calculate([2,6,2,8,4,0,1,5,7])"
   ]
  },
  {
   "cell_type": "code",
   "execution_count": null,
   "metadata": {},
   "outputs": [],
   "source": []
  }
 ],
 "metadata": {
  "kernelspec": {
   "display_name": "Python 3",
   "language": "python",
   "name": "python3"
  },
  "language_info": {
   "codemirror_mode": {
    "name": "ipython",
    "version": 3
   },
   "file_extension": ".py",
   "mimetype": "text/x-python",
   "name": "python",
   "nbconvert_exporter": "python",
   "pygments_lexer": "ipython3",
   "version": "3.8.6"
  }
 },
 "nbformat": 4,
 "nbformat_minor": 4
}
