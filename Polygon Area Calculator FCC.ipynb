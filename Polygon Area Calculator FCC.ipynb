{
 "cells": [
  {
   "cell_type": "code",
   "execution_count": 1,
   "metadata": {},
   "outputs": [
    {
     "data": {
      "text/plain": [
       "'In this project you will use object oriented programming to create a Rectangle class and a Square class. The Square class should be a subclass of Rectangle and inherit methods and attributes.\\n\\nWhen a Rectangle object is created, it should be initialized with width and height attributes. The class should also contain the following methods:\\n\\nset_width\\nset_height\\nget_area: Returns area (width * height)\\nget_perimeter: Returns perimeter (2 * width + 2 * height)\\nget_diagonal: Returns diagonal ((width ** 2 + height ** 2) ** .5)\\nget_picture: Returns a string that represents the shape using lines of \"*\". The number of lines should be equal to the height and the number of \"*\" in each line should be equal to the width. There should be a new line (\\n) at the end of each line. If the width or height is larger than 50, this should return the string: \"Too big for picture.\".\\nget_amount_inside: Takes another shape (square or rectangle) as an argument. Returns the number of times the passed in shape could fit inside the shape (with no rotations). For instance, a rectangle with a width of 4 and a height of 8 could fit in two squares with sides of 4.\\nAdditionally, if an instance of a Rectangle is represented as a string, it should look like: Rectangle(width=5, height=10)'"
      ]
     },
     "execution_count": 1,
     "metadata": {},
     "output_type": "execute_result"
    }
   ],
   "source": [
    "\"\"\"In this project you will use object oriented programming to create a Rectangle class and a Square class. The Square class should be a subclass of Rectangle and inherit methods and attributes.\n",
    "\n",
    "When a Rectangle object is created, it should be initialized with width and height attributes. The class should also contain the following methods:\n",
    "\n",
    "set_width\n",
    "set_height\n",
    "get_area: Returns area (width * height)\n",
    "get_perimeter: Returns perimeter (2 * width + 2 * height)\n",
    "get_diagonal: Returns diagonal ((width ** 2 + height ** 2) ** .5)\n",
    "get_picture: Returns a string that represents the shape using lines of \"*\". The number of lines should be equal to the height and the number of \"*\" in each line should be equal to the width. There should be a new line (\\n) at the end of each line. If the width or height is larger than 50, this should return the string: \"Too big for picture.\".\n",
    "get_amount_inside: Takes another shape (square or rectangle) as an argument. Returns the number of times the passed in shape could fit inside the shape (with no rotations). For instance, a rectangle with a width of 4 and a height of 8 could fit in two squares with sides of 4.\n",
    "Additionally, if an instance of a Rectangle is represented as a string, it should look like: Rectangle(width=5, height=10)\"\"\""
   ]
  },
  {
   "cell_type": "code",
   "execution_count": 30,
   "metadata": {},
   "outputs": [],
   "source": [
    "class Rectangle():\n",
    "    def __init__(self, width, height):\n",
    "        self.width = width\n",
    "        self.height = height\n",
    "        \n",
    "    def set_width(self, width):\n",
    "        self.width = width\n",
    "    \n",
    "    def set_height(self, height):\n",
    "        self.height = height\n",
    "        \n",
    "    def get_area(self):\n",
    "        return (self.width * self.height)\n",
    "    \n",
    "    def get_perimeter(self):\n",
    "        return (2 * self.width + 2 * self.height)\n",
    "    \n",
    "    def get_diagonal(self):\n",
    "        return ((self.width ** 2 + self.height ** 2) ** .5)\n",
    "    \n",
    "    def get_picture(self):\n",
    "        if self.width > 50 or self.height > 50:\n",
    "            return \"Too big for picture.\"\n",
    "        else:\n",
    "            picture =\"\"\n",
    "            for i in range(self.height):\n",
    "                picture += \"*\" * self.width + '\\n'\n",
    "            return picture\n",
    "    \n",
    "    def get_amount_inside(self, other_shape):\n",
    "        w = int(self.width/other_shape.width)\n",
    "        h = int(self.height/other_shape.height)\n",
    "        \n",
    "        return w*h        \n",
    "    \n",
    "    def __str__(self):\n",
    "        return (f\"Rectangle(width={self.width}, height={self.height})\")\n",
    "    \n",
    "        \n",
    "            "
   ]
  },
  {
   "cell_type": "code",
   "execution_count": 31,
   "metadata": {},
   "outputs": [
    {
     "name": "stdout",
     "output_type": "stream",
     "text": [
      "Rectangle(width=2, height=5)\n",
      "Rectangle(width=3, height=10)\n",
      "30\n",
      "26\n",
      "10.44030650891055\n",
      "6\n",
      "2\n"
     ]
    },
    {
     "data": {
      "text/plain": [
       "'Too big for picture.'"
      ]
     },
     "execution_count": 31,
     "metadata": {},
     "output_type": "execute_result"
    }
   ],
   "source": [
    "rectangle1 = Rectangle(2, 5)\n",
    "\n",
    "print(rectangle1)\n",
    "\n",
    "rectangle1.set_width(3)\n",
    "rectangle1.set_height(10)\n",
    "print(rectangle1)\n",
    "print(rectangle1.get_area())\n",
    "print(rectangle1.get_perimeter())\n",
    "print(rectangle1.get_diagonal())\n",
    "rectangle1.get_picture()\n",
    "\n",
    "rectangle2 = Rectangle(1, 5)\n",
    "print(rectangle1.get_amount_inside(rectangle2))\n",
    "\n",
    "rectangle3 = Rectangle(3, 5)\n",
    "print(rectangle1.get_amount_inside(rectangle3))\n",
    "\n",
    "rectangle1.set_width(51)\n",
    "rectangle1.get_picture()"
   ]
  },
  {
   "cell_type": "code",
   "execution_count": null,
   "metadata": {},
   "outputs": [],
   "source": [
    "\"\"\"Square class\n",
    "The Square class should be a subclass of Rectangle. When a Square object is created, a single side length is passed in. The __init__ method should store the side length in both the width and height attributes from the Rectangle class.\n",
    "\n",
    "The Square class should be able to access the Rectangle class methods but should also contain a set_side method. If an instance of a Square is represented as a string, it should look like: Square(side=9)\n",
    "\n",
    "Additionally, the set_width and set_height methods on the Square class should set both the width and height.\"\"\""
   ]
  },
  {
   "cell_type": "code",
   "execution_count": 26,
   "metadata": {},
   "outputs": [],
   "source": [
    "class Square(Rectangle):\n",
    "    def __init__(self, side):\n",
    "        self.width = side \n",
    "        self.height = side \n",
    "        self.side = side \n",
    "        \n",
    "    def set_side(self, side):\n",
    "        self.width = side \n",
    "        self.height = side \n",
    "        self.side = side\n",
    "        \n",
    "    def set_width(self, width):\n",
    "        self.width = width\n",
    "        self.height = width \n",
    "        self.side = width\n",
    "    \n",
    "    def set_height(self, height):\n",
    "        self.width = height\n",
    "        self.height = height \n",
    "        self.side = height\n",
    "        \n",
    "    def __str__(self):\n",
    "        return (f\"Square(side={self.side})\")"
   ]
  },
  {
   "cell_type": "code",
   "execution_count": 27,
   "metadata": {},
   "outputs": [
    {
     "name": "stdout",
     "output_type": "stream",
     "text": [
      "Square(side=10)\n",
      "100\n",
      "40\n",
      "14.142135623730951\n",
      "**********\n",
      "**********\n",
      "**********\n",
      "**********\n",
      "**********\n",
      "**********\n",
      "**********\n",
      "**********\n",
      "**********\n",
      "**********\n",
      "Too big for picture.\n"
     ]
    }
   ],
   "source": [
    "square1 = Square(5)\n",
    "\n",
    "square1.set_width(3)\n",
    "square1.set_height(10)\n",
    "print(square1)\n",
    "print(square1.get_area())\n",
    "print(square1.get_perimeter())\n",
    "print(square1.get_diagonal())\n",
    "square1.get_picture()\n",
    "\n",
    "square1.set_width(51)\n",
    "square1.get_picture()"
   ]
  },
  {
   "cell_type": "code",
   "execution_count": null,
   "metadata": {},
   "outputs": [],
   "source": []
  }
 ],
 "metadata": {
  "kernelspec": {
   "display_name": "Python 3",
   "language": "python",
   "name": "python3"
  },
  "language_info": {
   "codemirror_mode": {
    "name": "ipython",
    "version": 3
   },
   "file_extension": ".py",
   "mimetype": "text/x-python",
   "name": "python",
   "nbconvert_exporter": "python",
   "pygments_lexer": "ipython3",
   "version": "3.8.6"
  }
 },
 "nbformat": 4,
 "nbformat_minor": 4
}
