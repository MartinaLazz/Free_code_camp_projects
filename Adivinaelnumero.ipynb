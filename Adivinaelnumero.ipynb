{
 "cells": [
  {
   "cell_type": "markdown",
   "metadata": {},
   "source": [
    "## Adivina el número\n",
    "El usuario ingresa el rango en el cual la computadora genera un número aleatorio. El usuario debe adivinar."
   ]
  },
  {
   "cell_type": "code",
   "execution_count": 9,
   "metadata": {},
   "outputs": [],
   "source": [
    "from random import randint\n",
    "\n",
    "def adivinador(num1, num2):\n",
    "    num_random = randint(num1, num2)\n",
    "    num_adivinado = int(input(f'Adivina un número entero entre {num1} y {num2}: '))\n",
    "    while num_adivinado != num_random:\n",
    "        if num_adivinado > num_random:\n",
    "            print('Opps! Tu número no es correcto, es muy grande!')\n",
    "        else:\n",
    "            print('Opps! Tu número no es correcto, es muy chico!')\n",
    "        num_adivinado = int(input(f'Adivina un número entero entre {num1} y {num2}: '))\n",
    "    print(f'Felicitaciones! Acertaste el número {num_adivinado}!')"
   ]
  },
  {
   "cell_type": "code",
   "execution_count": 10,
   "metadata": {},
   "outputs": [
    {
     "name": "stdout",
     "output_type": "stream",
     "text": [
      "Adivina un número entero entre 1 y 10: 5\n",
      "Opps! Tu número no es correcto, es muy grande!\n",
      "Adivina un número entero entre 1 y 10: 3\n",
      "Felicitaciones! Acertaste el número 3!\n"
     ]
    }
   ],
   "source": [
    "adivinador(1,10)"
   ]
  },
  {
   "cell_type": "markdown",
   "metadata": {},
   "source": [
    "## Adivina el número 2\n",
    "El usuario ingresa el rango en el cual la computadora va a adivinar el número que el usuario adivinó."
   ]
  },
  {
   "cell_type": "code",
   "execution_count": 1,
   "metadata": {},
   "outputs": [],
   "source": [
    "from random import randint\n",
    "\n",
    "def adivinador_comp(num1, num2):\n",
    "    feedback =''\n",
    "    \n",
    "    while feedback != 'C':\n",
    "        if num1 != num2:\n",
    "            num_adivinado = randint(num1, num2)\n",
    "        else:\n",
    "            num_adivinado = num1\n",
    "            \n",
    "        feedback = input(f'{num_adivinado} es más alto (A), más bajo (B) o igual (C) al número pensado? ').upper()\n",
    "        \n",
    "        if feedback == 'A':\n",
    "            num2 = num_adivinado - 1\n",
    "        elif feedback == 'B':\n",
    "            num1 = num_adivinado + 1\n",
    "            \n",
    "    print(f'La computadora acertó el número {num_adivinado} correctamente!')"
   ]
  },
  {
   "cell_type": "code",
   "execution_count": 4,
   "metadata": {},
   "outputs": [
    {
     "name": "stdout",
     "output_type": "stream",
     "text": [
      "14 es más alto (A), más bajo (B) o igual (C) al número pensado? b\n",
      "49 es más alto (A), más bajo (B) o igual (C) al número pensado? b\n",
      "96 es más alto (A), más bajo (B) o igual (C) al número pensado? a\n",
      "59 es más alto (A), más bajo (B) o igual (C) al número pensado? a\n",
      "51 es más alto (A), más bajo (B) o igual (C) al número pensado? b\n",
      "56 es más alto (A), más bajo (B) o igual (C) al número pensado? a\n",
      "54 es más alto (A), más bajo (B) o igual (C) al número pensado? a\n",
      "52 es más alto (A), más bajo (B) o igual (C) al número pensado? c\n",
      "La computadora acertó el número 52 correctamente!\n"
     ]
    }
   ],
   "source": [
    "adivinador_comp(1, 100)"
   ]
  }
 ],
 "metadata": {
  "kernelspec": {
   "display_name": "Python 3",
   "language": "python",
   "name": "python3"
  },
  "language_info": {
   "codemirror_mode": {
    "name": "ipython",
    "version": 3
   },
   "file_extension": ".py",
   "mimetype": "text/x-python",
   "name": "python",
   "nbconvert_exporter": "python",
   "pygments_lexer": "ipython3",
   "version": "3.8.6"
  }
 },
 "nbformat": 4,
 "nbformat_minor": 4
}
